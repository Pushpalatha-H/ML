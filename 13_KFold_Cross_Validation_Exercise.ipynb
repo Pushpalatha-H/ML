{
  "cells": [
    {
      "cell_type": "markdown",
      "metadata": {
        "id": "view-in-github",
        "colab_type": "text"
      },
      "source": [
        "<a href=\"https://colab.research.google.com/github/Pushpalatha-H/ML/blob/main/13_KFold_Cross_Validation_Exercise.ipynb\" target=\"_parent\"><img src=\"https://colab.research.google.com/assets/colab-badge.svg\" alt=\"Open In Colab\"/></a>"
      ]
    },
    {
      "cell_type": "markdown",
      "metadata": {
        "id": "VWstR0sP2uSF"
      },
      "source": [
        "#Exercise\n",
        "**Use iris flower dataset from sklearn library and use cross_val_score against following models to measure the performance of each. In the end figure out the model with best performance,**\n",
        "\n",
        "**Logistic Regression**\n",
        "\n",
        "**SVM**\n",
        "\n",
        "**Decision Tree**\n",
        "\n",
        "**Random Forest**"
      ]
    },
    {
      "cell_type": "code",
      "execution_count": 25,
      "metadata": {
        "id": "1tUWAtQZ2YQ1"
      },
      "outputs": [],
      "source": [
        "import pandas as pd\n",
        "import numpy as np"
      ]
    },
    {
      "cell_type": "code",
      "execution_count": 26,
      "metadata": {
        "id": "uTyl339E3PLw"
      },
      "outputs": [],
      "source": [
        "from sklearn import datasets\n",
        "from sklearn.datasets import load_iris\n",
        "iris = datasets.load_iris()"
      ]
    },
    {
      "cell_type": "code",
      "execution_count": 27,
      "metadata": {
        "colab": {
          "base_uri": "https://localhost:8080/"
        },
        "id": "LAjZkMZG5ljo",
        "outputId": "af5a5944-9e08-41a9-8b1c-a9f47f6ec43d"
      },
      "outputs": [
        {
          "output_type": "execute_result",
          "data": {
            "text/plain": [
              "['DESCR',\n",
              " 'data',\n",
              " 'data_module',\n",
              " 'feature_names',\n",
              " 'filename',\n",
              " 'frame',\n",
              " 'target',\n",
              " 'target_names']"
            ]
          },
          "metadata": {},
          "execution_count": 27
        }
      ],
      "source": [
        "dir(iris)"
      ]
    },
    {
      "cell_type": "code",
      "execution_count": 28,
      "metadata": {
        "id": "HkhqmLnJ5ptU"
      },
      "outputs": [],
      "source": [
        "from sklearn.model_selection import cross_val_score"
      ]
    },
    {
      "cell_type": "markdown",
      "metadata": {
        "id": "3c_7tklD6Uil"
      },
      "source": [
        "**Logistic Regression**"
      ]
    },
    {
      "cell_type": "code",
      "execution_count": 52,
      "metadata": {
        "colab": {
          "base_uri": "https://localhost:8080/"
        },
        "id": "Q6oPwHKQ6QOZ",
        "outputId": "23f4da41-5b8e-48ff-ee4b-c19e88033f27"
      },
      "outputs": [
        {
          "output_type": "execute_result",
          "data": {
            "text/plain": [
              "0.9533333333333333"
            ]
          },
          "metadata": {},
          "execution_count": 52
        }
      ],
      "source": [
        "scores_lr =cross_val_score(LogisticRegression(solver='liblinear', multi_class='ovr'),iris.data,iris.target, cv=3)\n",
        "np.average(scores_lr)"
      ]
    },
    {
      "cell_type": "markdown",
      "source": [
        "**SVM**"
      ],
      "metadata": {
        "id": "vffrhJIT9c9x"
      }
    },
    {
      "cell_type": "code",
      "source": [
        "from sklearn import svm\n",
        "scores_svm = cross_val_score(svm.SVC(gamma='auto'), iris.data, iris.target, cv=3)\n",
        "np.average(scores_svm)"
      ],
      "metadata": {
        "colab": {
          "base_uri": "https://localhost:8080/"
        },
        "id": "Uk8kxvgY7j-w",
        "outputId": "3e552a67-909e-409e-da91-75ed6d319c4c"
      },
      "execution_count": 46,
      "outputs": [
        {
          "output_type": "execute_result",
          "data": {
            "text/plain": [
              "0.9733333333333333"
            ]
          },
          "metadata": {},
          "execution_count": 46
        }
      ]
    },
    {
      "cell_type": "markdown",
      "source": [
        "**DecisionTreeClassifier**"
      ],
      "metadata": {
        "id": "kJUyLa3P9gt0"
      }
    },
    {
      "cell_type": "code",
      "source": [
        "from sklearn.tree import DecisionTreeClassifier\n",
        "scores_DC = cross_val_score(DecisionTreeClassifier(),iris.data, iris.target, cv=3)\n",
        "np.average(scores_DC)"
      ],
      "metadata": {
        "colab": {
          "base_uri": "https://localhost:8080/"
        },
        "id": "W3P_fC9g7yaE",
        "outputId": "587a9d7b-6fc8-4fca-81af-ea6eeca31c5f"
      },
      "execution_count": 48,
      "outputs": [
        {
          "output_type": "execute_result",
          "data": {
            "text/plain": [
              "0.9533333333333333"
            ]
          },
          "metadata": {},
          "execution_count": 48
        }
      ]
    },
    {
      "cell_type": "markdown",
      "source": [
        "**RandomForestClassifier**"
      ],
      "metadata": {
        "id": "rMb8U9aa9myJ"
      }
    },
    {
      "cell_type": "code",
      "source": [
        "from sklearn.ensemble import RandomForestClassifier\n",
        "scores_rf = cross_val_score(RandomForestClassifier(n_estimators=40), iris.data, iris.target, cv=3)\n",
        "np.average(scores_rf)"
      ],
      "metadata": {
        "colab": {
          "base_uri": "https://localhost:8080/"
        },
        "id": "NwIpkoMW8Lc0",
        "outputId": "28917595-ff3e-4dc0-d723-c97247255729"
      },
      "execution_count": 50,
      "outputs": [
        {
          "output_type": "execute_result",
          "data": {
            "text/plain": [
              "0.96"
            ]
          },
          "metadata": {},
          "execution_count": 50
        }
      ]
    },
    {
      "cell_type": "markdown",
      "source": [
        "**SVM gives best score : 0.9733333333333333**\n"
      ],
      "metadata": {
        "id": "7wbZkebK-Sas"
      }
    }
  ],
  "metadata": {
    "colab": {
      "provenance": [],
      "authorship_tag": "ABX9TyPbIw9fwqshFeEUbRQtw88l",
      "include_colab_link": true
    },
    "kernelspec": {
      "display_name": "Python 3",
      "name": "python3"
    },
    "language_info": {
      "name": "python"
    }
  },
  "nbformat": 4,
  "nbformat_minor": 0
}